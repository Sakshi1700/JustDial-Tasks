{
  "nbformat": 4,
  "nbformat_minor": 0,
  "metadata": {
    "colab": {
      "name": "Web_Scarping-JD_Reviews-Sakshi.ipynb",
      "provenance": [],
      "collapsed_sections": [
        "t9SOyjNp5k5k"
      ]
    },
    "kernelspec": {
      "name": "python3",
      "display_name": "Python 3"
    },
    "language_info": {
      "name": "python"
    },
    "accelerator": "GPU",
    "gpuClass": "standard"
  },
  "cells": [
    {
      "cell_type": "markdown",
      "source": [
        "#Importing Necessary Libraries"
      ],
      "metadata": {
        "id": "t9SOyjNp5k5k"
      }
    },
    {
      "cell_type": "code",
      "source": [
        "pip install google-play-scraper"
      ],
      "metadata": {
        "colab": {
          "base_uri": "https://localhost:8080/"
        },
        "id": "0N_vvitr5vtz",
        "outputId": "c2a61dc8-99e2-4101-8122-a0d4dcff2f5e"
      },
      "execution_count": null,
      "outputs": [
        {
          "output_type": "stream",
          "name": "stdout",
          "text": [
            "Looking in indexes: https://pypi.org/simple, https://us-python.pkg.dev/colab-wheels/public/simple/\n",
            "Collecting google-play-scraper\n",
            "  Downloading google-play-scraper-1.1.0.tar.gz (52 kB)\n",
            "\u001b[K     |████████████████████████████████| 52 kB 1.5 MB/s \n",
            "\u001b[?25hBuilding wheels for collected packages: google-play-scraper\n",
            "  Building wheel for google-play-scraper (setup.py) ... \u001b[?25l\u001b[?25hdone\n",
            "  Created wheel for google-play-scraper: filename=google_play_scraper-1.1.0-py3-none-any.whl size=24585 sha256=d2565646b40adb838bfc0e887780e40ace32f87ce0b88d011e13bf1477e38dc2\n",
            "  Stored in directory: /root/.cache/pip/wheels/f4/fc/13/fc4c30a74f33bdd956248d2a0f022780fce59250a6a2301ad8\n",
            "Successfully built google-play-scraper\n",
            "Installing collected packages: google-play-scraper\n",
            "Successfully installed google-play-scraper-1.1.0\n"
          ]
        }
      ]
    },
    {
      "cell_type": "code",
      "execution_count": null,
      "metadata": {
        "id": "98UBemxf5aK-"
      },
      "outputs": [],
      "source": [
        "import pandas as pd\n",
        "import numpy as np\n",
        "import matplotlib.pyplot as plt\n",
        "import seaborn as sns\n",
        "from google_play_scraper import app, Sort, reviews_all"
      ]
    },
    {
      "cell_type": "markdown",
      "source": [
        "# Defining and configuring Google Play Scraper library"
      ],
      "metadata": {
        "id": "BEoKTI1C6JD7"
      }
    },
    {
      "cell_type": "code",
      "source": [
        "jd_users_reviews = reviews_all(\n",
        "    'com.justdial.search',\n",
        "    sleep_milliseconds=0,\n",
        "    lang='en', \n",
        "    country='in', \n",
        "    sort=Sort.NEWEST, # Default is Sort.MOST_RELEVANT.\n",
        ")"
      ],
      "metadata": {
        "id": "u7NPOPQi5r_7"
      },
      "execution_count": null,
      "outputs": []
    },
    {
      "cell_type": "markdown",
      "source": [
        "# Converting collected reviews data into dataframe"
      ],
      "metadata": {
        "id": "WpuRRukV667h"
      }
    },
    {
      "cell_type": "code",
      "source": [
        "df_reviews = pd.DataFrame(np.array(jd_users_reviews),columns=['review'])\n",
        "df_reviews = df_reviews.join(pd.DataFrame(df_reviews.pop('review').tolist()))\n",
        "# Display dataframe header\n",
        "df_reviews.head()"
      ],
      "metadata": {
        "colab": {
          "base_uri": "https://localhost:8080/",
          "height": 531
        },
        "id": "clwAN2N96-W7",
        "outputId": "4388e4c1-ef14-4a07-9471-c27285e2f64f"
      },
      "execution_count": null,
      "outputs": [
        {
          "output_type": "execute_result",
          "data": {
            "text/plain": [
              "                               reviewId                             userName  \\\n",
              "0  7b9e04fa-5b28-4947-b9c2-3ec4d85e5019                          Surya Smart   \n",
              "1  c68b1d66-511c-4d9a-bd68-24248066ec78                       Vishal Rastogi   \n",
              "2  8083ac47-81ce-4087-91a5-5c0f6e123268  Bathala enterprises & bathala homes   \n",
              "3  785a573f-db62-4dd1-9de9-d385369abe18                Prashanth Gaming Zone   \n",
              "4  040fe505-9403-4acc-908c-ea4d5962aed3                      aditya Kulkarni   \n",
              "\n",
              "                                           userImage  \\\n",
              "0  https://play-lh.googleusercontent.com/a-/AOh14...   \n",
              "1  https://play-lh.googleusercontent.com/a-/AOh14...   \n",
              "2  https://play-lh.googleusercontent.com/a-/AOh14...   \n",
              "3  https://play-lh.googleusercontent.com/a-/AOh14...   \n",
              "4  https://play-lh.googleusercontent.com/a-/AOh14...   \n",
              "\n",
              "                                             content  score  thumbsUpCount  \\\n",
              "0  There is not an option for 0 star. They are th...      1              0   \n",
              "1                                             v good      5              0   \n",
              "2                  Worst service worst communication      1              0   \n",
              "3                                  maintain help web      4              0   \n",
              "4  JUSTDIAL India ki Froud Company hai Jo Employe...      1              0   \n",
              "\n",
              "  reviewCreatedVersion                  at replyContent repliedAt  \n",
              "0                7.8.1 2022-06-28 16:03:44         None       NaT  \n",
              "1                7.5.8 2022-06-28 15:48:09         None       NaT  \n",
              "2                 None 2022-06-28 15:01:06         None       NaT  \n",
              "3                7.8.1 2022-06-28 14:52:37         None       NaT  \n",
              "4                7.5.8 2022-06-28 14:50:21         None       NaT  "
            ],
            "text/html": [
              "\n",
              "  <div id=\"df-2cea9c11-22d5-40fb-ace2-cf6fb6462b3f\">\n",
              "    <div class=\"colab-df-container\">\n",
              "      <div>\n",
              "<style scoped>\n",
              "    .dataframe tbody tr th:only-of-type {\n",
              "        vertical-align: middle;\n",
              "    }\n",
              "\n",
              "    .dataframe tbody tr th {\n",
              "        vertical-align: top;\n",
              "    }\n",
              "\n",
              "    .dataframe thead th {\n",
              "        text-align: right;\n",
              "    }\n",
              "</style>\n",
              "<table border=\"1\" class=\"dataframe\">\n",
              "  <thead>\n",
              "    <tr style=\"text-align: right;\">\n",
              "      <th></th>\n",
              "      <th>reviewId</th>\n",
              "      <th>userName</th>\n",
              "      <th>userImage</th>\n",
              "      <th>content</th>\n",
              "      <th>score</th>\n",
              "      <th>thumbsUpCount</th>\n",
              "      <th>reviewCreatedVersion</th>\n",
              "      <th>at</th>\n",
              "      <th>replyContent</th>\n",
              "      <th>repliedAt</th>\n",
              "    </tr>\n",
              "  </thead>\n",
              "  <tbody>\n",
              "    <tr>\n",
              "      <th>0</th>\n",
              "      <td>7b9e04fa-5b28-4947-b9c2-3ec4d85e5019</td>\n",
              "      <td>Surya Smart</td>\n",
              "      <td>https://play-lh.googleusercontent.com/a-/AOh14...</td>\n",
              "      <td>There is not an option for 0 star. They are th...</td>\n",
              "      <td>1</td>\n",
              "      <td>0</td>\n",
              "      <td>7.8.1</td>\n",
              "      <td>2022-06-28 16:03:44</td>\n",
              "      <td>None</td>\n",
              "      <td>NaT</td>\n",
              "    </tr>\n",
              "    <tr>\n",
              "      <th>1</th>\n",
              "      <td>c68b1d66-511c-4d9a-bd68-24248066ec78</td>\n",
              "      <td>Vishal Rastogi</td>\n",
              "      <td>https://play-lh.googleusercontent.com/a-/AOh14...</td>\n",
              "      <td>v good</td>\n",
              "      <td>5</td>\n",
              "      <td>0</td>\n",
              "      <td>7.5.8</td>\n",
              "      <td>2022-06-28 15:48:09</td>\n",
              "      <td>None</td>\n",
              "      <td>NaT</td>\n",
              "    </tr>\n",
              "    <tr>\n",
              "      <th>2</th>\n",
              "      <td>8083ac47-81ce-4087-91a5-5c0f6e123268</td>\n",
              "      <td>Bathala enterprises &amp; bathala homes</td>\n",
              "      <td>https://play-lh.googleusercontent.com/a-/AOh14...</td>\n",
              "      <td>Worst service worst communication</td>\n",
              "      <td>1</td>\n",
              "      <td>0</td>\n",
              "      <td>None</td>\n",
              "      <td>2022-06-28 15:01:06</td>\n",
              "      <td>None</td>\n",
              "      <td>NaT</td>\n",
              "    </tr>\n",
              "    <tr>\n",
              "      <th>3</th>\n",
              "      <td>785a573f-db62-4dd1-9de9-d385369abe18</td>\n",
              "      <td>Prashanth Gaming Zone</td>\n",
              "      <td>https://play-lh.googleusercontent.com/a-/AOh14...</td>\n",
              "      <td>maintain help web</td>\n",
              "      <td>4</td>\n",
              "      <td>0</td>\n",
              "      <td>7.8.1</td>\n",
              "      <td>2022-06-28 14:52:37</td>\n",
              "      <td>None</td>\n",
              "      <td>NaT</td>\n",
              "    </tr>\n",
              "    <tr>\n",
              "      <th>4</th>\n",
              "      <td>040fe505-9403-4acc-908c-ea4d5962aed3</td>\n",
              "      <td>aditya Kulkarni</td>\n",
              "      <td>https://play-lh.googleusercontent.com/a-/AOh14...</td>\n",
              "      <td>JUSTDIAL India ki Froud Company hai Jo Employe...</td>\n",
              "      <td>1</td>\n",
              "      <td>0</td>\n",
              "      <td>7.5.8</td>\n",
              "      <td>2022-06-28 14:50:21</td>\n",
              "      <td>None</td>\n",
              "      <td>NaT</td>\n",
              "    </tr>\n",
              "  </tbody>\n",
              "</table>\n",
              "</div>\n",
              "      <button class=\"colab-df-convert\" onclick=\"convertToInteractive('df-2cea9c11-22d5-40fb-ace2-cf6fb6462b3f')\"\n",
              "              title=\"Convert this dataframe to an interactive table.\"\n",
              "              style=\"display:none;\">\n",
              "        \n",
              "  <svg xmlns=\"http://www.w3.org/2000/svg\" height=\"24px\"viewBox=\"0 0 24 24\"\n",
              "       width=\"24px\">\n",
              "    <path d=\"M0 0h24v24H0V0z\" fill=\"none\"/>\n",
              "    <path d=\"M18.56 5.44l.94 2.06.94-2.06 2.06-.94-2.06-.94-.94-2.06-.94 2.06-2.06.94zm-11 1L8.5 8.5l.94-2.06 2.06-.94-2.06-.94L8.5 2.5l-.94 2.06-2.06.94zm10 10l.94 2.06.94-2.06 2.06-.94-2.06-.94-.94-2.06-.94 2.06-2.06.94z\"/><path d=\"M17.41 7.96l-1.37-1.37c-.4-.4-.92-.59-1.43-.59-.52 0-1.04.2-1.43.59L10.3 9.45l-7.72 7.72c-.78.78-.78 2.05 0 2.83L4 21.41c.39.39.9.59 1.41.59.51 0 1.02-.2 1.41-.59l7.78-7.78 2.81-2.81c.8-.78.8-2.07 0-2.86zM5.41 20L4 18.59l7.72-7.72 1.47 1.35L5.41 20z\"/>\n",
              "  </svg>\n",
              "      </button>\n",
              "      \n",
              "  <style>\n",
              "    .colab-df-container {\n",
              "      display:flex;\n",
              "      flex-wrap:wrap;\n",
              "      gap: 12px;\n",
              "    }\n",
              "\n",
              "    .colab-df-convert {\n",
              "      background-color: #E8F0FE;\n",
              "      border: none;\n",
              "      border-radius: 50%;\n",
              "      cursor: pointer;\n",
              "      display: none;\n",
              "      fill: #1967D2;\n",
              "      height: 32px;\n",
              "      padding: 0 0 0 0;\n",
              "      width: 32px;\n",
              "    }\n",
              "\n",
              "    .colab-df-convert:hover {\n",
              "      background-color: #E2EBFA;\n",
              "      box-shadow: 0px 1px 2px rgba(60, 64, 67, 0.3), 0px 1px 3px 1px rgba(60, 64, 67, 0.15);\n",
              "      fill: #174EA6;\n",
              "    }\n",
              "\n",
              "    [theme=dark] .colab-df-convert {\n",
              "      background-color: #3B4455;\n",
              "      fill: #D2E3FC;\n",
              "    }\n",
              "\n",
              "    [theme=dark] .colab-df-convert:hover {\n",
              "      background-color: #434B5C;\n",
              "      box-shadow: 0px 1px 3px 1px rgba(0, 0, 0, 0.15);\n",
              "      filter: drop-shadow(0px 1px 2px rgba(0, 0, 0, 0.3));\n",
              "      fill: #FFFFFF;\n",
              "    }\n",
              "  </style>\n",
              "\n",
              "      <script>\n",
              "        const buttonEl =\n",
              "          document.querySelector('#df-2cea9c11-22d5-40fb-ace2-cf6fb6462b3f button.colab-df-convert');\n",
              "        buttonEl.style.display =\n",
              "          google.colab.kernel.accessAllowed ? 'block' : 'none';\n",
              "\n",
              "        async function convertToInteractive(key) {\n",
              "          const element = document.querySelector('#df-2cea9c11-22d5-40fb-ace2-cf6fb6462b3f');\n",
              "          const dataTable =\n",
              "            await google.colab.kernel.invokeFunction('convertToInteractive',\n",
              "                                                     [key], {});\n",
              "          if (!dataTable) return;\n",
              "\n",
              "          const docLinkHtml = 'Like what you see? Visit the ' +\n",
              "            '<a target=\"_blank\" href=https://colab.research.google.com/notebooks/data_table.ipynb>data table notebook</a>'\n",
              "            + ' to learn more about interactive tables.';\n",
              "          element.innerHTML = '';\n",
              "          dataTable['output_type'] = 'display_data';\n",
              "          await google.colab.output.renderOutput(dataTable, element);\n",
              "          const docLink = document.createElement('div');\n",
              "          docLink.innerHTML = docLinkHtml;\n",
              "          element.appendChild(docLink);\n",
              "        }\n",
              "      </script>\n",
              "    </div>\n",
              "  </div>\n",
              "  "
            ]
          },
          "metadata": {},
          "execution_count": 4
        }
      ]
    },
    {
      "cell_type": "code",
      "source": [
        "df_reviews.info()"
      ],
      "metadata": {
        "colab": {
          "base_uri": "https://localhost:8080/"
        },
        "id": "rUdAYjpA7EV_",
        "outputId": "2390a508-c110-4ed4-8b70-45e10934db92"
      },
      "execution_count": null,
      "outputs": [
        {
          "output_type": "stream",
          "name": "stdout",
          "text": [
            "<class 'pandas.core.frame.DataFrame'>\n",
            "RangeIndex: 109963 entries, 0 to 109962\n",
            "Data columns (total 10 columns):\n",
            " #   Column                Non-Null Count   Dtype         \n",
            "---  ------                --------------   -----         \n",
            " 0   reviewId              109963 non-null  object        \n",
            " 1   userName              109963 non-null  object        \n",
            " 2   userImage             109963 non-null  object        \n",
            " 3   content               109624 non-null  object        \n",
            " 4   score                 109963 non-null  int64         \n",
            " 5   thumbsUpCount         109963 non-null  int64         \n",
            " 6   reviewCreatedVersion  78364 non-null   object        \n",
            " 7   at                    109963 non-null  datetime64[ns]\n",
            " 8   replyContent          22006 non-null   object        \n",
            " 9   repliedAt             22006 non-null   datetime64[ns]\n",
            "dtypes: datetime64[ns](2), int64(2), object(6)\n",
            "memory usage: 8.4+ MB\n"
          ]
        }
      ]
    },
    {
      "cell_type": "code",
      "source": [
        "# Count number of review scores\n",
        "df_reviews['score'].value_counts()"
      ],
      "metadata": {
        "colab": {
          "base_uri": "https://localhost:8080/"
        },
        "id": "Nq9zCSax7IUn",
        "outputId": "f1e35aef-6acb-493e-ec5c-b172b3b3025d"
      },
      "execution_count": null,
      "outputs": [
        {
          "output_type": "execute_result",
          "data": {
            "text/plain": [
              "5    73254\n",
              "1    16379\n",
              "4    13869\n",
              "3     4321\n",
              "2     2139\n",
              "0        1\n",
              "Name: score, dtype: int64"
            ]
          },
          "metadata": {},
          "execution_count": 6
        }
      ]
    },
    {
      "cell_type": "code",
      "source": [
        "# Visualize review scores as pie chart\n",
        "df_reviews['score'].value_counts().plot(kind='pie',figsize=(8,8), autopct='%1.1f%%')"
      ],
      "metadata": {
        "colab": {
          "base_uri": "https://localhost:8080/",
          "height": 483
        },
        "id": "h-qucWvF7P9b",
        "outputId": "4d2ec64b-d389-4871-877a-a6759f745a6f"
      },
      "execution_count": null,
      "outputs": [
        {
          "output_type": "execute_result",
          "data": {
            "text/plain": [
              "<matplotlib.axes._subplots.AxesSubplot at 0x7f9b13cefad0>"
            ]
          },
          "metadata": {},
          "execution_count": 7
        },
        {
          "output_type": "display_data",
          "data": {
            "text/plain": [
              "<Figure size 576x576 with 1 Axes>"
            ],
            "image/png": "[encoded data removed]"
          },
          "metadata": {}
        }
      ]
    },
    {
      "cell_type": "markdown",
      "source": [
        "# Downloading the CSV file in drive"
      ],
      "metadata": {
        "id": "2roubiiWssBs"
      }
    },
    {
      "cell_type": "code",
      "source": [
        "# Writing to a text file\n",
        "df_reviews.to_csv('jd_reviews.csv', sep='\\t')"
      ],
      "metadata": {
        "id": "uREuQy8u7mEv"
      },
      "execution_count": null,
      "outputs": []
    },
    {
      "cell_type": "code",
      "source": [
        "from google.colab import drive\n",
        "drive.mount('/content/drive')"
      ],
      "metadata": {
        "colab": {
          "base_uri": "https://localhost:8080/"
        },
        "id": "NeeZe2uf9MHJ",
        "outputId": "28c11fea-d6b7-43a2-8c9f-46843a4020a2"
      },
      "execution_count": null,
      "outputs": [
        {
          "output_type": "stream",
          "name": "stdout",
          "text": [
            "Drive already mounted at /content/drive; to attempt to forcibly remount, call drive.mount(\"/content/drive\", force_remount=True).\n"
          ]
        }
      ]
    },
    {
      "cell_type": "code",
      "source": [
        "#import shutil\n",
        "\n",
        "#shutil.copy(\"/content/jd_reviews.csv\",\"/content/drive/MyDrive/Web Scarped Data\")"
      ],
      "metadata": {
        "colab": {
          "base_uri": "https://localhost:8080/",
          "height": 35
        },
        "id": "cU43bsN29czL",
        "outputId": "3ffbe35f-6db4-48fa-bbe7-7e1b85f6eba6"
      },
      "execution_count": null,
      "outputs": [
        {
          "output_type": "execute_result",
          "data": {
            "text/plain": [
              "'/content/drive/MyDrive/Web Scarped Data/jd_reviews.csv'"
            ],
            "application/vnd.google.colaboratory.intrinsic+json": {
              "type": "string"
            }
          },
          "metadata": {},
          "execution_count": 11
        }
      ]
    },
    {
      "cell_type": "markdown",
      "source": [
        "Total of 109962 reviews are scraped\n"
      ],
      "metadata": {
        "id": "zkW1tMvBsvUf"
      }
    }
  ]
}